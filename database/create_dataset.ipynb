{
 "cells": [
  {
   "attachments": {},
   "cell_type": "markdown",
   "id": "601a3d7a-ad72-4cbd-ba50-c97d8325e94a",
   "metadata": {},
   "source": [
    "# Libraries"
   ]
  },
  {
   "cell_type": "code",
   "execution_count": null,
   "id": "308f9d6f-d1ba-45bd-9b78-667345511f4d",
   "metadata": {},
   "outputs": [],
   "source": [
    "from graph_creation import create_mesh_dataset, save_database, create_dataset_folders"
   ]
  },
  {
   "cell_type": "code",
   "execution_count": null,
   "id": "916ef043",
   "metadata": {},
   "outputs": [],
   "source": [
    "create_dataset_folders(dataset_folder='datasets')"
   ]
  },
  {
   "attachments": {},
   "cell_type": "markdown",
   "id": "b8240b03-00a7-41a0-a21d-10cf12500c2b",
   "metadata": {
    "tags": []
   },
   "source": [
    "# Create and save pytorch geometric dataset"
   ]
  },
  {
   "cell_type": "code",
   "execution_count": null,
   "id": "152d32d7",
   "metadata": {},
   "outputs": [],
   "source": [
    "# dataset_folder, dataset_name, dataset_dir, with_multiscale, start_sim_id, n_sim\n",
    "simulation_ids = [\n",
    "    ['./raw_datasets_mesh', 'mesh_dataset2','datasets/train', False, 1, 80],\n",
    "    ['./raw_datasets_mesh', 'mesh_dataset2','datasets/test', False, 81, 20],\n",
    "    ['./raw_datasets_mesh', 'multiscale_mesh_dataset2','datasets/train', True, 1, 80],\n",
    "    ['./raw_datasets_mesh', 'multiscale_mesh_dataset2','datasets/test', True, 81, 20],\n",
    "    ['./raw_datasets_dk15', 'dijkring_15_big','datasets/test', True, 101, 11],\n",
    "    ['./raw_datasets_dk15', 'dijkring_15_big_fine','datasets/test', False, 101, 11],\n",
    "]"
   ]
  },
  {
   "cell_type": "code",
   "execution_count": null,
   "id": "b4aa96a4",
   "metadata": {},
   "outputs": [],
   "source": [
    "for dataset_folder, dataset_name, dataset_dir, with_multiscale, start_sim_id, n_sim in simulation_ids:\n",
    "   mesh_dataset = create_mesh_dataset(dataset_folder, n_sim, start_sim_id, \n",
    "                                      with_multiscale=with_multiscale, number_of_multiscales=4,\n",
    "                                      )\n",
    "   \n",
    "   if dataset_name[:8] == 'dijkring':\n",
    "      train_dataset = [mesh_dataset[0]]\n",
    "      test_dataset = mesh_dataset[1:]\n",
    "      save_database(train_dataset, name=dataset_name, out_path='datasets/train')\n",
    "      save_database(test_dataset, name=dataset_name, out_path='datasets/test')\n",
    "   else:\n",
    "      save_database(mesh_dataset, name=dataset_name, out_path=dataset_dir)"
   ]
  }
 ],
 "metadata": {
  "kernelspec": {
   "display_name": "Python 3.10.8 ('GDL')",
   "language": "python",
   "name": "python3"
  },
  "language_info": {
   "codemirror_mode": {
    "name": "ipython",
    "version": 3
   },
   "file_extension": ".py",
   "mimetype": "text/x-python",
   "name": "python",
   "nbconvert_exporter": "python",
   "pygments_lexer": "ipython3",
   "version": "3.10.8"
  },
  "vscode": {
   "interpreter": {
    "hash": "751ff9f3dce1395adb2e3795e68eeeed688a6558fa29bf9be6c36716ccf55324"
   }
  }
 },
 "nbformat": 4,
 "nbformat_minor": 5
}
