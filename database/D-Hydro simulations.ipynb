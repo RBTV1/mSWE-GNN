{
 "cells": [
  {
   "cell_type": "markdown",
   "metadata": {},
   "source": [
    "# Libraries"
   ]
  },
  {
   "cell_type": "code",
   "execution_count": null,
   "metadata": {},
   "outputs": [],
   "source": [
    "import matplotlib.pyplot as plt\n",
    "import xarray as xr\n",
    "\n",
    "from dhydro_utils import run_simulations_mesh, create_raw_dataset_folder, create_mesh_dhydro\n",
    "from graph_creation import Mesh, plot_faces, save_polygon_to_file, find_closest_nodes"
   ]
  },
  {
   "attachments": {},
   "cell_type": "markdown",
   "metadata": {},
   "source": [
    "# Run simulations"
   ]
  },
  {
   "cell_type": "markdown",
   "metadata": {},
   "source": [
    "## Dike ring"
   ]
  },
  {
   "cell_type": "code",
   "execution_count": null,
   "metadata": {},
   "outputs": [],
   "source": [
    "model_folder = 'C:\\\\Users\\\\rbentivoglio\\\\Documents\\\\PhD\\\\My PhD\\\\D-HYDRO\\\\dijkring_15.dsproj_data\\\\FlowFM\\\\input\\\\dflowfm'\n",
    "save_folder = 'raw_datasets_dk15'\n",
    "polygon_file = 'dijkring_15.pol'\n",
    "DEM_file = model_folder+'/DEM_25m_15.xyz'"
   ]
  },
  {
   "cell_type": "code",
   "execution_count": null,
   "metadata": {},
   "outputs": [],
   "source": [
    "from shapely.geometry import Polygon\n",
    "from shapely import geometry\n",
    "import fiona\n",
    "import numpy as np\n",
    "\n",
    "shapefile_path = \"C:/Users/rbentivoglio/Documents/PhD/GeoData/Nederland/dijkring_15.shp\"\n",
    "\n",
    "with fiona.open(shapefile_path, \"r\") as shapefile:\n",
    "  shape = shapefile[0]\n",
    "\n",
    "  line = geometry.LineString(shape['geometry'].coordinates[0])\n",
    "  polygon = geometry.Polygon(line)\n",
    "\n",
    "polygon = Polygon(np.array(shape.geometry.coordinates)[0])\n",
    "polygon = polygon.simplify(tolerance=300, preserve_topology=True)\n",
    "\n",
    "save_polygon_to_file(polygon, polygon_file)"
   ]
  },
  {
   "cell_type": "code",
   "execution_count": null,
   "metadata": {},
   "outputs": [],
   "source": [
    "plt.plot(np.array(polygon.boundary.xy)[0], np.array(polygon.boundary.xy)[1])\n",
    "\n",
    "# project polygon boundary to a line\n",
    "line = geometry.LineString(polygon.boundary.coords)\n",
    "\n",
    "# uniform points along the line\n",
    "distance = 8700 #6500\n",
    "points = [line.interpolate(i * distance + 2000).xy for i in range(int(line.length / distance))]\n",
    "points = np.array(points).squeeze()\n",
    "\n",
    "# plot points\n",
    "print(\"Number of points: \", len(points))\n",
    "plt.plot(points[:,0], points[:,1], 'x');"
   ]
  },
  {
   "cell_type": "code",
   "execution_count": null,
   "metadata": {},
   "outputs": [],
   "source": [
    "mesh = create_mesh_dhydro(polygon_file, 4)\n",
    "\n",
    "boundary_edges = np.where((mesh.edge_faces.reshape(-1,2) == -1).sum(1) == 1)[0]\n",
    "boundary_nodes = mesh.mesh_nodes[mesh.edge_nodes.reshape(-1,2)[boundary_edges]].reshape(-1,2)"
   ]
  },
  {
   "cell_type": "code",
   "execution_count": null,
   "metadata": {},
   "outputs": [],
   "source": [
    "np.random.seed(42)\n",
    "\n",
    "total_time = 3600*24*4\n",
    "time_resolution = 3600\n",
    "min_discharge = 0\n",
    "peak_value = (np.random.rand(len(points)))*250+750\n",
    "Ln = 10\n",
    "Q  = 0.3\n",
    "\n",
    "time_steps = int(total_time/time_resolution)+1\n",
    "time_x = np.linspace(0.25, 0.8, time_steps)\n",
    "time_hydrograph = time_x - time_x.min()\n",
    "time_hydrograph = time_hydrograph/time_hydrograph.max() * total_time\n",
    "\n",
    "for i, point in enumerate(points):\n",
    "    boundary_edge = find_closest_nodes(boundary_nodes, point, top_n=3)\n",
    "    coords = boundary_nodes[boundary_edge]\n",
    "\n",
    "    F = time_x**2\n",
    "    y = F * (Ln - 1) / np.sqrt((Ln * F - 1)**2 + F * (F - 1)**2 * (Ln - 1)**2 * Q**2)\n",
    "    y = y/y.max() * (peak_value[i]-min_discharge) + min_discharge\n",
    "\n",
    "    hydrograph = (time_hydrograph, y)\n",
    "    df = run_simulations_mesh(1, model_folder, save_folder, start_sim=101+i, \n",
    "                            DEM_file=DEM_file, polygon_file=polygon_file, \n",
    "                            breach_coords=coords[1:], number_of_multiscales=4,\n",
    "                            random_hydrograph=False, hydrograph=hydrograph)\n",
    "\n",
    "df"
   ]
  },
  {
   "cell_type": "markdown",
   "metadata": {},
   "source": [
    "## Synthetic dataset"
   ]
  },
  {
   "cell_type": "code",
   "execution_count": null,
   "metadata": {},
   "outputs": [],
   "source": [
    "model_folder = 'C:\\\\Users\\\\rbentivoglio\\\\Documents\\\\PhD\\\\My PhD\\\\D-HYDRO\\\\SWEGNN_mesh.dsproj_data\\\\FlowFM\\\\input\\\\dflowfm'\n",
    "save_folder = 'raw_datasets_mesh'\n",
    "\n",
    "create_raw_dataset_folder(save_folder)"
   ]
  },
  {
   "cell_type": "code",
   "execution_count": null,
   "metadata": {},
   "outputs": [],
   "source": [
    "df = run_simulations_mesh(1, model_folder, save_folder, start_sim=91, \n",
    "                            # DEM_file=DEM_file, polygon_file=polygon_file, breach_coords=coords[1:],\n",
    "                            noise_octave=(1,5), DEM_multiplier=(0.5,5), slope_multiplier=(0,0.005), \n",
    "                            num_vertices_polygon=(24,28), number_of_multiscales=4, ellipticality=(1,2), grid_size=83,\n",
    "                            random_hydrograph=True, min_discharge=0, peak=(150,300), shape=(0,2))"
   ]
  },
  {
   "cell_type": "markdown",
   "metadata": {},
   "source": [
    "# Visualize results"
   ]
  },
  {
   "cell_type": "code",
   "execution_count": null,
   "metadata": {},
   "outputs": [],
   "source": [
    "mesh = Mesh()\n",
    "_id = 106\n",
    "nc_file = f'{save_folder}/Simulations/output_{_id}_map.nc'\n",
    "mesh._import_from_map_netcdf(nc_file)\n",
    "mesh._get_derived_attributes()\n",
    "mesh._import_DEM(f\"{save_folder}\\\\DEM\\\\DEM_{_id}.xyz\")\n",
    "mesh"
   ]
  },
  {
   "cell_type": "code",
   "execution_count": null,
   "metadata": {},
   "outputs": [],
   "source": [
    "nc_dataset = xr.open_dataset(nc_file)\n",
    "\n",
    "waterdepth = nc_dataset['mesh2d_waterdepth'].data\n",
    "\n",
    "fig, axs = plt.subplots(1, 2, figsize=(12,5))\n",
    "plot_faces(mesh, ax=axs[1], face_value=waterdepth[:,-1], cmap='Blues', \n",
    "           edgecolor='k', linewidths=0.1,\n",
    "           )\n",
    "\n",
    "cbar = plt.colorbar(axs[1].collections[0], ax=axs[1], orientation='vertical')\n",
    "# cbar.set_label('Color')\n",
    "\n",
    "plot_faces(mesh, ax=axs[0], face_value=mesh.DEM, cmap='terrain', \n",
    "           edgecolor='k', linewidths=0.1,\n",
    "           )\n",
    "cbar = plt.colorbar(axs[0].collections[0], ax=axs[0], orientation='vertical')"
   ]
  }
 ],
 "metadata": {
  "kernelspec": {
   "display_name": "Python 3.10.8 ('GDL')",
   "language": "python",
   "name": "python3"
  },
  "language_info": {
   "codemirror_mode": {
    "name": "ipython",
    "version": 3
   },
   "file_extension": ".py",
   "mimetype": "text/x-python",
   "name": "python",
   "nbconvert_exporter": "python",
   "pygments_lexer": "ipython3",
   "version": "3.10.8"
  },
  "orig_nbformat": 4,
  "vscode": {
   "interpreter": {
    "hash": "751ff9f3dce1395adb2e3795e68eeeed688a6558fa29bf9be6c36716ccf55324"
   }
  }
 },
 "nbformat": 4,
 "nbformat_minor": 2
}
